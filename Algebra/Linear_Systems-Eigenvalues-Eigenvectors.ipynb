{
 "cells": [
  {
   "cell_type": "code",
   "execution_count": 1,
   "metadata": {},
   "outputs": [],
   "source": [
    "import numpy as np\n",
    "from numpy import linalg as LA  # Notar que importamos linalg con nickname LA"
   ]
  },
  {
   "cell_type": "code",
   "execution_count": 2,
   "metadata": {},
   "outputs": [
    {
     "name": "stdout",
     "output_type": "stream",
     "text": [
      "[[0.18816379]]\n"
     ]
    }
   ],
   "source": [
    "c1 = 2*(np.random.rand(3,1)-0.5) # c1 y c2 son dos vectores 3x1 con elementos aleatorios en el \n",
    "c2 = 2*(np.random.rand(3,1)-0.5) # rango (-1,1). Pregunta: por que puedo sumar un vector\n",
    "                                 # y un escalar?Buscar \"numpy broadcasting\"\n",
    "print(np.dot(np.transpose(c1),c2)/(LA.norm(c1)*LA.norm(c2)))\n",
    "# EL producto escalar entre c1 y c2 es c1.c2 = |c1||c2|cos(theta), entonces, \n",
    "# c1.c2/(|c1||c2|) = cos(theta), por lo que si este numero NO es 1 ni -1, sabemos que los\n",
    "# vectores c1 y c2 no son linealmente independientes.\n",
    "# Por otra parte, habiendo generado c1 y c2 al azar, las chances de que sean linealmente\n",
    "# dependientes son minusculas. Igualmente vale la pena probar que no es 1."
   ]
  },
  {
   "cell_type": "code",
   "execution_count": 3,
   "metadata": {},
   "outputs": [
    {
     "name": "stdout",
     "output_type": "stream",
     "text": [
      "[[ 0.5605616 ]\n",
      " [-0.474587  ]\n",
      " [ 0.85215268]]\n",
      "[[-0.37543578]\n",
      " [-0.46214947]\n",
      " [ 0.14162217]]\n",
      "[[0.56299506]\n",
      " [0.20387462]\n",
      " [0.23435456]]\n"
     ]
    }
   ],
   "source": [
    "d1 = 2*(np.random.rand()-0.5) # d1 y d2 son escalares en el rango (-1,1)\n",
    "d2 = 2*(np.random.rand()-0.5)\n",
    "c3 = d1*c1 + d2*c2  # c3, por construccion, es linealmente dependiente de c1 y c2.\n",
    "print(c1)\n",
    "print(c2)\n",
    "print(c3) # Sin embargo eso NO es obvio a simple vista"
   ]
  },
  {
   "cell_type": "code",
   "execution_count": 4,
   "metadata": {},
   "outputs": [
    {
     "name": "stdout",
     "output_type": "stream",
     "text": [
      "(3, 3)\n",
      "[[ 0.5605616  -0.37543578  0.56299506]\n",
      " [-0.474587   -0.46214947  0.20387462]\n",
      " [ 0.85215268  0.14162217  0.23435456]]\n"
     ]
    },
    {
     "data": {
      "text/plain": [
       "2"
      ]
     },
     "execution_count": 4,
     "metadata": {},
     "output_type": "execute_result"
    }
   ],
   "source": [
    "A = np.concatenate((c1, c2, c3), axis=1) # construimos la matriz A con columnas c1, c2 y c3\n",
    "print(A.shape)\n",
    "print(A)  # chequear que, efectivamente, las columnas de A son c1, c2 y c3\n",
    "LA.matrix_rank(A)  # EL rango de la matriz es el numero de columnas linealmente independientes"
   ]
  },
  {
   "cell_type": "code",
   "execution_count": 5,
   "metadata": {},
   "outputs": [],
   "source": [
    "# Construimos explicitamente A de modo que una de sus 3 columnas es linealmente dependiente\n",
    "# de las otras dos. Ahora hagamos de cuenta que no sabemos esto. Por cierto que, dado\n",
    "# que generamos las componentes de manera aleatoria, la dependencia linal no es obvia\n",
    "# a simple vista, pero por construccion sabemos que esta ahi.\n",
    "#\n",
    "# Entonces, recordemos:\n",
    "# 1) c1 y c2 son linealmente independiente. \n",
    "# 2) c3 es linealmente Dependiente de {c1, c2}\n",
    "# 3) Como los coeficientes fueron generados al azar, con probabilidad 0.99999999999.....\n",
    "#    c3 es lineamente independiente de c1 y c3 como vectores individuales,\n",
    "#    PERO ESTA EN EL PLANO GENERADO POR c1 y c2.\n",
    "# 4) Por lo tanto, con altisima probabilidad, los pares {c1, c3} y {c2, c3} tambien\n",
    "#    son linealmente idependientes (chequearlo).\n",
    "# 5) Sin embargo, la terna {c1, c2, c3} es linealmente dependiente. (comprobarlo en Geogebra)\n",
    "# 6) Esto implica que el SPAN de {c1, c2, c3} es un plano, no es R3.\n",
    "#\n",
    "# De ahora en mas, como dije mas arriba, hacemos de cuenta que\n",
    "#\n",
    "#            NO SABEMOS QUE LAS COLUMNAS DE A SON LINEALMENTE DEPENDIENTES!"
   ]
  },
  {
   "cell_type": "code",
   "execution_count": 6,
   "metadata": {},
   "outputs": [
    {
     "data": {
      "text/plain": [
       "1.894779600340745e-17"
      ]
     },
     "execution_count": 6,
     "metadata": {},
     "output_type": "execute_result"
    }
   ],
   "source": [
    "np.linalg.det(A)  # Una manera automatica de chequear si las columnas son linealmente\n",
    "                  # dependientes es calcular el determinante. Si da cero son linealmente\n",
    "                  # dependients. Ver el video de determinantes de 3Blue1Brown y entender  \n",
    "                  # el significado geometrico del determinante (como se\n",
    "                  # transforman los volumenes) para entender por que si son lin dep el det\n",
    "                  # tiene que ser cero.\n",
    "            \n",
    "                  # Pero, aunque el determinante de A sea cero, y por lo tanto no podamos\n",
    "                  # calcular la inversa de A, el sistema A x = b puede\n",
    "                  # tener solucion si justo b pertence al subespacio spanned por las columnas\n",
    "                  # de A. Vamos a averiguarlo con el metodo de Gram-Schmidt"
   ]
  },
  {
   "cell_type": "code",
   "execution_count": 7,
   "metadata": {},
   "outputs": [
    {
     "name": "stdout",
     "output_type": "stream",
     "text": [
      "(3, 1)\n",
      "[[ 0.5605616 ]\n",
      " [-0.474587  ]\n",
      " [ 0.85215268]]\n",
      "(3, 1)\n",
      "[[-0.37543578]\n",
      " [-0.46214947]\n",
      " [ 0.14162217]]\n",
      "(3, 1)\n",
      "[[0.56299506]\n",
      " [0.20387462]\n",
      " [0.23435456]]\n"
     ]
    }
   ],
   "source": [
    "# Como estamos jugando a que no sabemos como se construyo A, extraigamos los vectores columnas y,\n",
    "# a travez del proceso de Gram-Schmidt, obtengamos con una base ortonormal\n",
    "# del subespacio generado por el span de las columnas de A\n",
    "c1A = A[:, [0]]  # columna 1 de la matriz A \n",
    "print(c1A.shape)\n",
    "print(c1A)\n",
    "c2A = A[:, [1]]  # columna 2 de la matriz A \n",
    "print(c2A.shape)\n",
    "print(c2A)\n",
    "c3A = A[:, [2]]  # columna 3 de la matriz A\n",
    "print(c3A.shape)\n",
    "print(c3A)"
   ]
  },
  {
   "cell_type": "code",
   "execution_count": 8,
   "metadata": {},
   "outputs": [
    {
     "name": "stdout",
     "output_type": "stream",
     "text": [
      "[[ 0.49827672]\n",
      " [-0.42185489]\n",
      " [ 0.75746865]]\n",
      "[[1.]]\n"
     ]
    }
   ],
   "source": [
    "n1A = c1A/LA.norm(c1A)          # dividiendo al vector por su magnitud obtenemos un vector\n",
    "                                # en la misma direccion pero de magnitud (o \"norma\") 1.\n",
    "print(n1A)\n",
    "print(np.dot(np.transpose(n1A),n1A))  # chequeamos que su norma es 1 multiplicandolo\n",
    "                                      # escalarmente por si mismo"
   ]
  },
  {
   "cell_type": "code",
   "execution_count": 9,
   "metadata": {},
   "outputs": [
    {
     "name": "stdout",
     "output_type": "stream",
     "text": [
      "[[ 0.05738327]\n",
      " [-0.04858227]\n",
      " [ 0.08723271]]\n"
     ]
    }
   ],
   "source": [
    "# Ya tenemos el vector n1A, que es proporcional a c1A, pero de magnitud 1.\n",
    "# Ahora queremos construir el vector n2A.\n",
    "# Recordedmos que n2A es tiene que ser ortonormal con n1A, y tal que el span de {n1A, n2A}\n",
    "# sea el mismo que el de {c1A, c2A}\n",
    "# El mecanismo es: \n",
    "# 1) calculamos la componente de c2A paralela a n1A, la llamamos P_c2A_n1A\n",
    "P_c2A_n1A = np.dot(np.transpose(n1A),c2A)*n1A # la proyeccion del vector c2A sobre el vector n1A es\n",
    "                                              # (c2A.n1A) n1A \n",
    "                                              # c2A.n1A es producto escalar de C2A por n1A,\n",
    "                                              # que da la magnitud de la proyeccion de c2A \n",
    "                                              # sobre sobre n1A. Luego, al multiplicarlo por n1A,\n",
    "                                              # el vector resultante apunta en la direccion de n1A\n",
    "                                              # La formula general inluye una division por \n",
    "                                              # (n1A.n1A)\n",
    "                                              # en este caso no es necesario porque (n1A.n1A) = 1\n",
    "print(P_c2A_n1A)"
   ]
  },
  {
   "cell_type": "code",
   "execution_count": 10,
   "metadata": {},
   "outputs": [
    {
     "name": "stdout",
     "output_type": "stream",
     "text": [
      "[[-0.43281905]\n",
      " [-0.4135672 ]\n",
      " [ 0.05438946]]\n",
      "[[-4.33680869e-18]]\n"
     ]
    }
   ],
   "source": [
    "# 2) Calculamos la componente de c2A perpendicular a n1A.\n",
    "#    A dicha componente la llamamos P_c2A_perp_n1A (largo pero explicito... :))\n",
    "# 2_a) Se calcula simplemente restandole a c2A la componente paralela a n1A que \n",
    "#      ya calculamos en el paso 1.\n",
    "#      Naturalmente, P_c2A_perp_n1A tiene que ser perpendicular a n1A. \n",
    "P_c2A_perp_n1A = c2A - P_c2A_n1A  # la proyeccion del vector c2A perpendicular al vector n1A es\n",
    "                                  # c2A - P_c2A_n1A\n",
    "print(P_c2A_perp_n1A)\n",
    "print(np.dot(np.transpose(P_c2A_perp_n1A),P_c2A_n1A)) # para chequear la perpendicularidad de\n",
    "                                                      # P_c2A_perp_n1A y P_c2A_n1A\n",
    "                                                      # calculamos su producto escalar"
   ]
  },
  {
   "cell_type": "code",
   "execution_count": 11,
   "metadata": {},
   "outputs": [
    {
     "name": "stdout",
     "output_type": "stream",
     "text": [
      "[[-0.37543578]\n",
      " [-0.46214947]\n",
      " [ 0.14162217]]\n",
      "[[-0.37543578]\n",
      " [-0.46214947]\n",
      " [ 0.14162217]]\n"
     ]
    },
    {
     "data": {
      "text/plain": [
       "array([[ True],\n",
       "       [ True],\n",
       "       [ True]])"
      ]
     },
     "execution_count": 11,
     "metadata": {},
     "output_type": "execute_result"
    }
   ],
   "source": [
    "print(c2A)                          # Chequamos que c2A = P_c2A_n1A + P_c2A_perp_n1A de dos maneras\n",
    "print(P_c2A_n1A + P_c2A_perp_n1A)   # 1- Observando numericamente si coinciden\n",
    "c2A == P_c2A_n1A + P_c2A_perp_n1A   # 2- Preguntandole a Python con \"==\"\n",
    "                                    # (ojo con este ultimo metodo porque puede llegar a dar\n",
    "                                    # False por errores que las maquinas siempre cometen)"
   ]
  },
  {
   "cell_type": "code",
   "execution_count": 12,
   "metadata": {},
   "outputs": [
    {
     "name": "stdout",
     "output_type": "stream",
     "text": [
      "[[-0.72003787]\n",
      " [-0.68801048]\n",
      " [ 0.09048232]]\n",
      "[[1.]]\n",
      "[[1.38777878e-17]]\n"
     ]
    }
   ],
   "source": [
    "# 3) Calculamos n2A (que tiene que tener norma 1) simplemente dividiendo a \n",
    "#    P_c2A_perp_n1A por su norma.\n",
    "# 3_a) Chequeamos que el conjunto {n1A, n2A} es ortonormal\n",
    "#\n",
    "n2A = P_c2A_perp_n1A/LA.norm(P_c2A_perp_n1A) # Generamos n2A, que es el vector de norma = 1\n",
    "print(n2A)                                          # perpendicular a n1A \n",
    "print(np.dot(np.transpose(n2A),n2A))                # El conjunto {n1A, n2A} es ortonormal y\n",
    "print(np.dot(np.transpose(n1A),n2A))                # genera el subespacio de R3 en el que \"viven\"\n",
    "                                                    # c1A y c2A"
   ]
  },
  {
   "cell_type": "code",
   "execution_count": 13,
   "metadata": {},
   "outputs": [
    {
     "name": "stdout",
     "output_type": "stream",
     "text": [
      "[[ 0.1853779 ]\n",
      " [-0.15694607]\n",
      " [ 0.28180717]]\n",
      "[[ 0.37761716]\n",
      " [ 0.36082069]\n",
      " [-0.04745261]]\n"
     ]
    }
   ],
   "source": [
    "# 4) Queremos calcular la componente de c3A perpendicular a n1A y n2A (y por lo tanto,\n",
    "#    tambien perpendicular a c1A y c2A)\n",
    "# 4_a) Primero calculamos las componentes de c3A paraleleas a n1A y n2A.\n",
    "\n",
    "P_c3A_n1A = np.dot(np.transpose(n1A),c3A)*n1A # Continuamos con el proceso de Gram-Schmidt con\n",
    "P_c3A_n2A = np.dot(np.transpose(n2A),c3A)*n2A # el vector c3A. Ahora estamos calculando las\n",
    "print(P_c3A_n1A)                              # proyecciones de c3A sobre n1A y n2A\n",
    "print(P_c3A_n2A)                              "
   ]
  },
  {
   "cell_type": "code",
   "execution_count": 14,
   "metadata": {},
   "outputs": [
    {
     "name": "stdout",
     "output_type": "stream",
     "text": [
      "[[-1.11022302e-16]\n",
      " [-1.66533454e-16]\n",
      " [ 1.04083409e-16]]\n"
     ]
    }
   ],
   "source": [
    "# 4_b) Calculamos la componente de c3A perpendicular a n1A y n2A.\n",
    "#      A esto lo hacemos simplemente restando de c3A las componentes paralelas a n1A y a n2A\n",
    "\n",
    "P_c3A_perp_n1Ayn2A = c3A - P_c3A_n1A - P_c3A_n2A # Intentamos extraer la componente de c3A que\n",
    "print(P_c3A_perp_n1Ayn2A)                        # NO esta en el subespacio spanned por \n",
    "                                                 # {n1A, n2A} pero nos da zero!\n",
    "                                                 # Esto significa que c3A el linealmente\n",
    "                                                 # dependiente de c1A y c2A \n",
    "                                                 #\n",
    "                                                 # Por eso concluimos que el sistema\n",
    "                                                 # A x = b\n",
    "                                                 # solo tendra solucion si justo b pertenece\n",
    "                                                 # al mismo subespacio."
   ]
  },
  {
   "cell_type": "code",
   "execution_count": 15,
   "metadata": {},
   "outputs": [
    {
     "name": "stdout",
     "output_type": "stream",
     "text": [
      "[[ 6.70049560e+15]\n",
      " [-1.39184470e+16]\n",
      " [-1.59531125e+16]]\n"
     ]
    }
   ],
   "source": [
    "# Nuestro proposito es entender cuando la ecuacion A x = b va a tener solucion.\n",
    "# Y que tipo de soluciones tiene\n",
    "#\n",
    "# Miremos el lado derecho de la ecuacion: A x\n",
    "# Recordemos que A x, donde x es un vector 3x1 de coeficientes incognita,\n",
    "# tiene el significado geometrico de una combinacion lineal de los vecores columna de A.\n",
    "# Los coeficientes de esa combinacion son los componentes incognita de x.\n",
    "# \n",
    "# Ahora miremos el lado izquierdo: b\n",
    "# la unica manera de que la ecuacion A x = b tenga solucion es que b viva en el subespacio spanned\n",
    "# por las columnas de A: C(A).\n",
    "# Entonces, si generamos un b al azar, con probabilidad ~1 la ecuacion no va atener solucion:\n",
    "b = 2*(np.random.rand(3,1)-0.5)\n",
    "x = LA.solve(A, b)  \n",
    "print(x)\n",
    "# numericamente esto aparece como un vector gigante"
   ]
  },
  {
   "cell_type": "code",
   "execution_count": 16,
   "metadata": {},
   "outputs": [
    {
     "name": "stdout",
     "output_type": "stream",
     "text": [
      "[[-0.24292012]\n",
      " [ 0.15437994]\n",
      " [-0.10050847]]\n"
     ]
    }
   ],
   "source": [
    "# Chequeamos que, efectivamente, x NO es una solucion de la ecuacion A x = b, o de A x - b = 0\n",
    "print(np.dot(A,x)-b)"
   ]
  },
  {
   "cell_type": "code",
   "execution_count": 17,
   "metadata": {},
   "outputs": [
    {
     "name": "stdout",
     "output_type": "stream",
     "text": [
      "[[ 0.50367618]\n",
      " [ 0.78123655]\n",
      " [-0.33724046]]\n"
     ]
    }
   ],
   "source": [
    "# Supongamos entonces que b vive en el subespacio\n",
    "# generado por las columnas de A. Como generamos un b asi?\n",
    "# Asi:\n",
    "\n",
    "bb1 = 2*(np.random.rand()-0.5) # bb1 y bb2 son escalares en el rango (-1,1)\n",
    "bb2 = 2*(np.random.rand()-0.5)\n",
    "b = bb1*n1A + bb2*n2A            # Por que puedo estar seguro de que esto vive en el subespacio\n",
    "print(b)                       # generado por las columnas de A? Numericamente no resulta obvio."
   ]
  },
  {
   "cell_type": "code",
   "execution_count": 18,
   "metadata": {},
   "outputs": [
    {
     "name": "stdout",
     "output_type": "stream",
     "text": [
      "[[-0.75883776]\n",
      " [-0.25956635]\n",
      " [ 1.47710176]]\n"
     ]
    }
   ],
   "source": [
    "x = LA.solve(A, b)                   # Asi resolvemos la ecuacion \"singular\", pero\n",
    "                                     # todavia no entendemos conceptualmente como\n",
    "                                     # encontrar esta solucion\n",
    "print(x)"
   ]
  },
  {
   "cell_type": "code",
   "execution_count": 19,
   "metadata": {},
   "outputs": [
    {
     "name": "stdout",
     "output_type": "stream",
     "text": [
      "[[0.00000000e+00]\n",
      " [0.00000000e+00]\n",
      " [5.55111512e-17]]\n"
     ]
    }
   ],
   "source": [
    "# Chequeamos que, efectivamente, x es una solucion de la ecuacion A x = b, o de A x - b = 0\n",
    "print(np.dot(A,x)-b)"
   ]
  },
  {
   "cell_type": "code",
   "execution_count": 20,
   "metadata": {},
   "outputs": [],
   "source": [
    "# Como vimos, si hubiera 2 soluciones distintas entre si, x1 y x2 , de la ecuacion\n",
    "# A x = b, esto es, si A x1 = b y A x2 = b y x1 distinto de x2,\n",
    "# Entonces A (x1 - x2) = 0, donde (x1 - x2) es distinto del vector 0.\n",
    "# En otras palabras, existirian vectores \"d\" distintos de cero tales que\n",
    "#                       A d = 0\n",
    "# Si d es solucion de la ecuacion \"homogenea\", lambda*d, donde lambda es cualquier\n",
    "# numero real, tambien lo es.\n",
    "# Que significado geometrico tiene d?\n",
    "# Las componentes de d son incognita, llamemoslas d1, d2 y d3.\n",
    "#                        A d = d1*c1A + d2*c2A + d3* c3A = 0\n",
    "# es decir, A d es una combinacion lineal de los vectores columna de A que da como resultado\n",
    "# el vector 0.\n",
    "# Pero que exista tal combinacion lineal (no todos cero) implica que, por ejemplo\n",
    "# (si d3 es distinto de cero):\n",
    "#                    c3A = -(d1/d3)*c1A - (d2/d3)*c2A \n",
    "# es decir, que la tercera columna sea combinacion linal de las primeras dos.\n",
    "# Es decir, implica que los vectores columna no son linealmente independientes. \n",
    "# \n",
    "# Esto implica que \n",
    "#                 (d1/d3)*c1A + (d2/d3)*c2A + c3A = 0"
   ]
  },
  {
   "cell_type": "code",
   "execution_count": 21,
   "metadata": {},
   "outputs": [
    {
     "name": "stdout",
     "output_type": "stream",
     "text": [
      "[[-0.42001181]\n",
      " [ 0.87245965]\n",
      " [ 1.        ]]\n"
     ]
    },
    {
     "data": {
      "text/plain": [
       "array([[0.],\n",
       "       [0.],\n",
       "       [0.]])"
      ]
     },
     "execution_count": 21,
     "metadata": {},
     "output_type": "execute_result"
    }
   ],
   "source": [
    "# recuerden que en una de las primeras celdas, construimos la columna c3 de A asi:\n",
    "# d1 = 2*(np.random.rand()-0.5) \n",
    "# d2 = 2*(np.random.rand()-0.5)\n",
    "# c3 = d1*c1 + d2*c2  # c3, por construccion, es linealmente dependiente de c1 y c2.\n",
    "# Esto significa que el vector\n",
    "x_0 = np.array([[-d1],[-d2],[1]])\n",
    "print(x_0)\n",
    "# tiene que ser solucion de la ecuacion homogenea A x = 0. Probemos:\n",
    "np.dot(A,x_0)"
   ]
  },
  {
   "cell_type": "code",
   "execution_count": 22,
   "metadata": {},
   "outputs": [
    {
     "data": {
      "text/plain": [
       "array([[0.0000000e+00],\n",
       "       [4.4408921e-16],\n",
       "       [0.0000000e+00]])"
      ]
     },
     "execution_count": 22,
     "metadata": {},
     "output_type": "execute_result"
    }
   ],
   "source": [
    "# Entonces x_0 multiplicado por cualquier escalar tambien tiene que ser solucion:\n",
    "lambd = 20*(np.random.rand()-0.5) # numero aleatorio entre -10 y 10\n",
    "x_01 = lambd*x_0 # ojo que la palabra lambda esta protegida\n",
    "np.dot(A,x_01)"
   ]
  },
  {
   "cell_type": "code",
   "execution_count": 23,
   "metadata": {},
   "outputs": [
    {
     "name": "stdout",
     "output_type": "stream",
     "text": [
      "[[1.11022302e-15]\n",
      " [4.44089210e-16]\n",
      " [5.55111512e-17]]\n"
     ]
    }
   ],
   "source": [
    "# Por lo tanto la solucion general de A x = b es una solucion particular x mas \n",
    "# una solucion cualquiera de la ecuacion A x = 0 (que llamamos x_01 = lambd*x_0):\n",
    "print(np.dot(A,x + x_01) - b)"
   ]
  },
  {
   "cell_type": "code",
   "execution_count": 24,
   "metadata": {},
   "outputs": [],
   "source": [
    "# Notar que en este caso la matriz A fue construida a proposito de modo que\n",
    "# conocemos como construir la solucion de A x = 0.\n",
    "# En casos realistas esto no es asi. La semana que viene aprenderemos a resolverla\n",
    "# en general."
   ]
  },
  {
   "cell_type": "code",
   "execution_count": 25,
   "metadata": {},
   "outputs": [
    {
     "data": {
      "text/plain": [
       "'Autovalores y Autovectores'"
      ]
     },
     "execution_count": 25,
     "metadata": {},
     "output_type": "execute_result"
    }
   ],
   "source": [
    "'''Autovalores y Autovectores'''"
   ]
  },
  {
   "cell_type": "code",
   "execution_count": 26,
   "metadata": {},
   "outputs": [
    {
     "name": "stdout",
     "output_type": "stream",
     "text": [
      "[[-0.02102339 -0.30929255]\n",
      " [-0.56281921 -1.21968238]]\n"
     ]
    }
   ],
   "source": [
    "n=2\n",
    "A = np.random.randn(n,n)\n",
    "print(A)"
   ]
  },
  {
   "cell_type": "code",
   "execution_count": 27,
   "metadata": {},
   "outputs": [
    {
     "name": "stdout",
     "output_type": "stream",
     "text": [
      "(2,)\n",
      "(2, 2)\n",
      "[ 0.10990162 -1.35060738]\n",
      "[[ 0.92089195  0.22657394]\n",
      " [-0.38981793  0.97399397]]\n"
     ]
    }
   ],
   "source": [
    "w, v = LA.eig(A) # ver https://docs.scipy.org/doc/numpy/reference/generated/numpy.linalg.eig.html\n",
    "print(w.shape)\n",
    "print(v.shape)\n",
    "print(w) # w es (2,) ((n,) en general), y cada componente es un autovalor de A LEER que significa (2,)\n",
    "print(v) # v es (2,2) ((n,n) en general), y cada columna es un autovector de A"
   ]
  },
  {
   "cell_type": "code",
   "execution_count": 28,
   "metadata": {},
   "outputs": [
    {
     "name": "stdout",
     "output_type": "stream",
     "text": [
      "[[ 0.92089195]\n",
      " [-0.38981793]]\n",
      "1.0\n",
      "[[0.22657394]\n",
      " [0.97399397]]\n",
      "0.9999999999999999\n",
      "[[0.10990162]\n",
      " [0.10990162]]\n",
      "[[-1.35060738]\n",
      " [-1.35060738]]\n"
     ]
    }
   ],
   "source": [
    "AutoV1_A = v[:, [0]]\n",
    "AutoV2_A = v[:, [1]]\n",
    "print(AutoV1_A)\n",
    "print(LA.norm(AutoV1_A))\n",
    "print(AutoV2_A)\n",
    "print(LA.norm(AutoV2_A))\n",
    "print(np.dot(A,AutoV1_A)/AutoV1_A) # comprobamos que AutoV1_A es un autovector de A\n",
    "                                   # con autovalor w[0]. (division por vector es comp. a comp.)\n",
    "print(np.dot(A,AutoV2_A)/AutoV2_A) "
   ]
  },
  {
   "cell_type": "code",
   "execution_count": 29,
   "metadata": {},
   "outputs": [
    {
     "name": "stdout",
     "output_type": "stream",
     "text": [
      "[[-0.1710302]]\n"
     ]
    }
   ],
   "source": [
    "# Comprovar visualmente en Geogebra que no son en general ortogonales\n",
    "print(np.dot(np.transpose(AutoV1_A),AutoV2_A))"
   ]
  },
  {
   "cell_type": "code",
   "execution_count": 30,
   "metadata": {},
   "outputs": [
    {
     "name": "stdout",
     "output_type": "stream",
     "text": [
      "[[-0.02102339 -0.43605588]\n",
      " [-0.43605588 -1.21968238]]\n"
     ]
    }
   ],
   "source": [
    "# A = (A + A^T)/2 + (A - A^T)/2, (A + A^T)/2 es simetrica, (A - A^T)/2 antisimetrica\n",
    "As = (A + np.transpose(A))/2\n",
    "print(As)"
   ]
  },
  {
   "cell_type": "code",
   "execution_count": 31,
   "metadata": {},
   "outputs": [
    {
     "name": "stdout",
     "output_type": "stream",
     "text": [
      "[ 0.12082225 -1.36152801]\n",
      "[[ 0.95095232  0.3093375 ]\n",
      " [-0.3093375   0.95095232]]\n"
     ]
    }
   ],
   "source": [
    "ws, vs = LA.eig(As) \n",
    "print(ws) \n",
    "print(vs)"
   ]
  },
  {
   "cell_type": "code",
   "execution_count": 32,
   "metadata": {},
   "outputs": [
    {
     "name": "stdout",
     "output_type": "stream",
     "text": [
      "[[ 0.95095232]\n",
      " [-0.3093375 ]]\n",
      "[[0.3093375 ]\n",
      " [0.95095232]]\n",
      "[[0.]]\n"
     ]
    }
   ],
   "source": [
    "AutoV1_As = vs[:, [0]]\n",
    "AutoV2_As = vs[:, [1]]\n",
    "print(AutoV1_As)\n",
    "print(AutoV2_As)\n",
    "print(np.dot(np.transpose(AutoV1_As),AutoV2_As)) # Los autovectores de una matriz simetrica\n",
    "                                                 # son ortogonales entre si"
   ]
  },
  {
   "cell_type": "code",
   "execution_count": null,
   "metadata": {},
   "outputs": [],
   "source": []
  }
 ],
 "metadata": {
  "kernelspec": {
   "display_name": "Python 3",
   "language": "python",
   "name": "python3"
  },
  "language_info": {
   "codemirror_mode": {
    "name": "ipython",
    "version": 3
   },
   "file_extension": ".py",
   "mimetype": "text/x-python",
   "name": "python",
   "nbconvert_exporter": "python",
   "pygments_lexer": "ipython3",
   "version": "3.8.5"
  }
 },
 "nbformat": 4,
 "nbformat_minor": 2
}
