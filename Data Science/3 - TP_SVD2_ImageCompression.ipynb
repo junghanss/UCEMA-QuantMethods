{
 "cells": [
  {
   "cell_type": "code",
   "execution_count": 3,
   "metadata": {},
   "outputs": [],
   "source": [
    "import numpy as np\n",
    "from PIL import Image # PIL = \"pillow\", la library de python que se usa para trabajar con imagenes\n",
    "from sklearn.utils.extmath import randomized_svd"
   ]
  },
  {
   "cell_type": "code",
   "execution_count": 4,
   "metadata": {},
   "outputs": [],
   "source": [
    "img_f = 'alicia.gif' # guarde \"alicia.gif\" en la misma carpeta que este JN\n",
    "img = Image.open(img_f)\n",
    "M = np.asarray(img)  # aca tenemos la imgen en forma de matriz"
   ]
  },
  {
   "cell_type": "code",
   "execution_count": 5,
   "metadata": {},
   "outputs": [
    {
     "name": "stdout",
     "output_type": "stream",
     "text": [
      "max(M) =  1\n",
      "min(M) =  0\n",
      "hay elementos > 0 y < 1?  0\n",
      "mean(M) =  0.8813573717948718\n"
     ]
    },
    {
     "data": {
      "text/plain": [
       "array([[1, 1, 1, ..., 1, 1, 1],\n",
       "       [1, 1, 1, ..., 1, 1, 1],\n",
       "       [1, 1, 1, ..., 1, 1, 1],\n",
       "       ...,\n",
       "       [1, 1, 1, ..., 1, 1, 1],\n",
       "       [1, 1, 1, ..., 1, 1, 1],\n",
       "       [1, 1, 1, ..., 1, 1, 1]], dtype=uint8)"
      ]
     },
     "execution_count": 5,
     "metadata": {},
     "output_type": "execute_result"
    }
   ],
   "source": [
    "# exploramos brevemente la matriz M\n",
    "print(\"max(M) = \", np.max(M)) # 1 (= blanco) es el max\n",
    "print(\"min(M) = \", np.min(M)) # 0 (= negro) es el min\n",
    "Values = np.logical_and(M > 0.1, M < 0.9)\n",
    "print(\"hay elementos > 0 y < 1? \", np.sum(Values)) # hay solo 0s y 1s\n",
    "print(\"mean(M) = \", np.mean(M)) # hay 88% de 1s (pixeles blancos), ver la imagen\n",
    "M # dtype=uint8 "
   ]
  },
  {
   "cell_type": "code",
   "execution_count": 6,
   "metadata": {},
   "outputs": [],
   "source": [
    "# como recuperamos una imagen a partir de la matriz?\n",
    "A1 = (M*255).astype(np.uint8)\n",
    "recovered = Image.fromarray(A1)\n",
    "recovered.save('recuperada' + '.png') # se tiene que haber creado\n",
    "# una imagen .png igual a la original"
   ]
  },
  {
   "cell_type": "code",
   "execution_count": 11,
   "metadata": {},
   "outputs": [],
   "source": [
    "def SVDimagen():\n",
    "    K = [1, 3, 10, 20, 50, 100, 150, 200, 400, 800, 1170]\n",
    "    for k in K:\n",
    "        U, s, V = randomized_svd(M, k)\n",
    "        s = np.sqrt(s)\n",
    "        s = np.diag(s)\n",
    "        A = U.dot(s.dot(V))\n",
    "\n",
    "        A = ((1-A) * 255).astype(np.uint8)\n",
    "#        A = (A * 255).astype(np.uint8)  # ponganle un \"#\" al comando anterior y prueben \n",
    "                                         # con este borrando el anterior con \"#\".\n",
    "                                         # Mire las imagenes resultantes\n",
    "        recovered = Image.fromarray(A)\n",
    "        recovered.save('recuperada_' + str(k) + '.png')"
   ]
  },
  {
   "cell_type": "code",
   "execution_count": 10,
   "metadata": {},
   "outputs": [],
   "source": [
    "SVDimagen()"
   ]
  },
  {
   "cell_type": "code",
   "execution_count": null,
   "metadata": {},
   "outputs": [],
   "source": []
  }
 ],
 "metadata": {
  "kernelspec": {
   "display_name": "Python 3",
   "language": "python",
   "name": "python3"
  },
  "language_info": {
   "codemirror_mode": {
    "name": "ipython",
    "version": 3
   },
   "file_extension": ".py",
   "mimetype": "text/x-python",
   "name": "python",
   "nbconvert_exporter": "python",
   "pygments_lexer": "ipython3",
   "version": "3.7.6"
  }
 },
 "nbformat": 4,
 "nbformat_minor": 4
}
