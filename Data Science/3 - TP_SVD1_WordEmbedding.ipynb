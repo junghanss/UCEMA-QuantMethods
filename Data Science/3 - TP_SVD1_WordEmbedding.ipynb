{
 "cells": [
  {
   "cell_type": "code",
   "execution_count": 1,
   "metadata": {},
   "outputs": [],
   "source": [
    "import numpy as np\n",
    "from numpy import linalg as LA\n",
    "\n",
    "\n",
    "import scipy\n",
    "from scipy import linalg\n",
    "from scipy import stats\n",
    "\n",
    "%matplotlib inline\n",
    "import matplotlib as mpl\n",
    "import matplotlib.pyplot as plt\n",
    "\n",
    "from sklearn.utils.extmath import randomized_svd # esta funcion vamos a usar"
   ]
  },
  {
   "cell_type": "code",
   "execution_count": 2,
   "metadata": {},
   "outputs": [],
   "source": [
    "matrix = []  # vamos a transformar el archivo .csv en un np.array\n",
    "with open(\"co_occur.csv\", \"r\") as f:\n",
    "    for line in f:     # Phyton entiende que line es una fila\n",
    "        currow = []\n",
    "        entries = line.split(\",\") # entries es una list donde cada elemento es lo que esta entre \",\". Pero sus elementos son\n",
    "                                  # formato string. Hay que pasarlo a float\n",
    "        for entry in entries:\n",
    "            currow.append(float(entry))  # transforma la string en float\n",
    "        matrix.append(currow)  # matrix no es aun un numpy array, es una lista, es mas eficiente hacer esto y al final \n",
    "                               # transformarlo en un numpy array.\n",
    "matrix = np.array(matrix)  # transforma la lista matrix en un numpy array"
   ]
  },
  {
   "cell_type": "code",
   "execution_count": 3,
   "metadata": {},
   "outputs": [],
   "source": [
    "np.save(\"co_occur.npy\", matrix) # la guardamos, asi no tenemos que hacer lo anterior nuevamente"
   ]
  },
  {
   "cell_type": "code",
   "execution_count": 2,
   "metadata": {},
   "outputs": [
    {
     "data": {
      "text/plain": [
       "(10000, 10000)"
      ]
     },
     "execution_count": 2,
     "metadata": {},
     "output_type": "execute_result"
    }
   ],
   "source": [
    "M = np.load(\"co_occur.npy\") # abre el np.array guardado\n",
    "M.shape"
   ]
  },
  {
   "cell_type": "code",
   "execution_count": 6,
   "metadata": {},
   "outputs": [
    {
     "name": "stdout",
     "output_type": "stream",
     "text": [
      "['the', 'of', 'in', 'and', 'to', 'was', 'is', 'for', 'on', 'as']\n",
      "el indice de la palabra 'the' es:  0\n",
      "el indice de la palabra 'in' es:  2\n"
     ]
    }
   ],
   "source": [
    "words = []  # vamos a transformar el archivo .txt en una list de Python\n",
    "with open(\"dictionary.txt\", \"r\") as f:\n",
    "    for line in f:\n",
    "        words.append(line.replace(\"\\n\",\"\"))\n",
    "print(words[:10])   # el indice i corresponde al entry \"i\" tanto de fila como de columna de M\n",
    "print(\"el indice de la palabra 'the' es: \", words.index(\"the\")) # la funcion a.index(\"b\") devuelve el\n",
    "print(\"el indice de la palabra 'in' es: \", words.index(\"in\"))  # indice de la \"string\" \"b\" en la la lista \"a\"."
   ]
  },
  {
   "cell_type": "code",
   "execution_count": 6,
   "metadata": {},
   "outputs": [],
   "source": [
    "# Ejercicio 2\n",
    "Mlog = np.log(1 + M) # esta matriz es simetrica\n",
    "U, d, VT = randomized_svd(Mlog, n_components = 100)"
   ]
  },
  {
   "cell_type": "code",
   "execution_count": 7,
   "metadata": {},
   "outputs": [
    {
     "name": "stdout",
     "output_type": "stream",
     "text": [
      "U.shape =  (10000, 100)\n",
      "d.shape =  (100,)\n",
      "VT.shape =  (100, 10000)\n",
      "[14299.74306502  2864.81560151  2682.6537864   1745.55492021\n",
      "  1528.41717494  1308.76186927  1185.74051684  1128.05264658\n",
      "  1102.55714239   956.3077184 ]\n"
     ]
    }
   ],
   "source": [
    "print(\"U.shape = \", U.shape)\n",
    "print(\"d.shape = \", d.shape)\n",
    "print(\"VT.shape = \", VT.shape)\n",
    "print(d[:10])"
   ]
  },
  {
   "cell_type": "code",
   "execution_count": 9,
   "metadata": {},
   "outputs": [
    {
     "data": {
      "image/png": "[encoded data removed]",
      "text/plain": [
       "<Figure size 432x288 with 1 Axes>"
      ]
     },
     "metadata": {
      "needs_background": "light"
     },
     "output_type": "display_data"
    },
    {
     "name": "stdout",
     "output_type": "stream",
     "text": [
      "Indices de las coordenadas mas grandes en el vector 3\n",
      "[ 131  320   68   66  183  828  148  383  394 1726]\n",
      "\n",
      "Indices de las coordenadas mas chicas en el vector 3\n",
      "[ 410  327  115  476 1984  196  774  189  802  379]\n",
      "\n",
      "Palabras con las coordenadas mas grandes en el vector 3\n",
      "['county', 'council', 'national', 'university', 'district', 'regional', 'government', 'department', 'northern', 'municipal']\n",
      "\n",
      "Palabras con las coordenadas mas chicas en el vector 3\n",
      "['my', 'love', 'album', 'me', 'baby', 'you', 'your', 'song', 'vocals', 'episode']\n"
     ]
    }
   ],
   "source": [
    "# Ejercicio 3\n",
    "\n",
    "# ploteamos los valores de las coordenadas de los vectores\n",
    "# juegue con diferentes valores de i\n",
    "i = 3\n",
    "plt.plot(U[:,i])\n",
    "plt.ylabel('valor de las coordenadas del i-esimo mayor SV vector')\n",
    "plt.show()\n",
    "\n",
    "# extraemos los n_words indices de las max y min coordenadas\n",
    "n_words = 10\n",
    "largest_indexes = np.argpartition(U[:,i], -n_words)[-n_words:] # tomen esta funcion como viene...\n",
    "smallest_indexes = np.argpartition(U[:,i], n_words)[:n_words]\n",
    "\n",
    "print(\"Indices de las coordenadas mas grandes en el vector\", i)\n",
    "print(largest_indexes[::-1])\n",
    "print(\"\\nIndices de las coordenadas mas chicas en el vector\", i)\n",
    "print(smallest_indexes[::-1])\n",
    "\n",
    "\n",
    "print(\"\\nPalabras con las coordenadas mas grandes en el vector\", i)\n",
    "print([words[idx] for idx in largest_indexes[::-1]])\n",
    "print(\"\\nPalabras con las coordenadas mas chicas en el vector\", i)\n",
    "print([words[idx] for idx in smallest_indexes[::-1]])"
   ]
  },
  {
   "cell_type": "code",
   "execution_count": 10,
   "metadata": {},
   "outputs": [],
   "source": [
    "# Ejercicio 4. (a)\n",
    "Ushape = U.shape  #  = (10000, 100)\n",
    "U2 = U**2\n",
    "Un = np.sqrt(np.sum(U2,axis = 1)).reshape(Ushape[0],1)\n",
    "U_rawnorm = U/Un # las filas de U_rawnorm estan normalizadas a 1\n",
    "# y U_rawnorm[i,:] es la \"mejor\" proyeccion 100D de la palabra i"
   ]
  },
  {
   "cell_type": "code",
   "execution_count": 11,
   "metadata": {},
   "outputs": [],
   "source": [
    "man_index = words.index(\"man\")\n",
    "woman_index = words.index(\"woman\")\n",
    "v1 = U_rawnorm[woman_index,:].reshape(Ushape[1],1) # vector proyeccion 100D de la palabra \"woman\"\n",
    "v2 = U_rawnorm[man_index,:].reshape(Ushape[1],1) # vector proyeccion 100D de la palabra \"man\"\n",
    "v = v1 - v2 # vector tal que sumado al vector man (v2) da el vector woman (v1)\n",
    "v = v/LA.norm(v)"
   ]
  },
  {
   "cell_type": "code",
   "execution_count": 12,
   "metadata": {},
   "outputs": [],
   "source": [
    "list_i = [\"boy\", \"girl\", \"brother\", \"sister\", \"king\", \"queen\", \"he\", \"she\", \"john\", \"mary\", \"wall\", \"tree\"]"
   ]
  },
  {
   "cell_type": "code",
   "execution_count": 13,
   "metadata": {},
   "outputs": [],
   "source": [
    "Proy_words = np.zeros((len(list_i), Ushape[1]))\n",
    "# matriz cuyas filas son las proyecciones 100D de las palabras en list_i\n",
    "i = 0\n",
    "for word in list_i:\n",
    "    index = words.index(word)\n",
    "    Proy_words[i,:] = U_rawnorm[index,:]\n",
    "    i += 1"
   ]
  },
  {
   "cell_type": "code",
   "execution_count": 14,
   "metadata": {},
   "outputs": [],
   "source": [
    "# Proyeccion, en la direccion de v, de las proyecciones 100D de las palabras en list_i\n",
    "PrWords_v = np.dot(Proy_words, v)"
   ]
  },
  {
   "cell_type": "code",
   "execution_count": 15,
   "metadata": {},
   "outputs": [
    {
     "data": {
      "image/png": "[encoded data removed]",
      "text/plain": [
       "<Figure size 1440x288 with 1 Axes>"
      ]
     },
     "metadata": {
      "needs_background": "light"
     },
     "output_type": "display_data"
    }
   ],
   "source": [
    "xs = [0] * len(list_i)\n",
    "\n",
    "fig, ax = plt.subplots(figsize=(20,4))\n",
    "\n",
    "plt.clf()\n",
    "plt.plot(PrWords_v, xs, 'o', color='black')\n",
    "\n",
    "for i in range(len(list_i)):\n",
    "    plt.text(PrWords_v[i],0,list_i[i], {'ha': 'left', 'va': 'bottom'}, fontsize = 20, rotation=90)\n",
    "plt.show()"
   ]
  },
  {
   "cell_type": "code",
   "execution_count": 16,
   "metadata": {},
   "outputs": [],
   "source": [
    "# Ejercicio 4. (b) (si solucion aca)\n",
    "\n"
   ]
  },
  {
   "cell_type": "code",
   "execution_count": 17,
   "metadata": {},
   "outputs": [],
   "source": [
    "# Ejercicio 5. (a)\n",
    "# definimos la funcion \"closest_word\"\n",
    "\n",
    "# repetimos esto para recordarlo\n",
    "Ushape = U.shape  #  = (10000, 100)\n",
    "U2 = U**2\n",
    "Un = np.sqrt(np.sum(U2,axis = 1)).reshape(Ushape[0],1)\n",
    "U_rawnorm = U/Un # las filas de U_rawnorm estan normalizadas a 1\n",
    "# y U_rawnorm[i,:] es la \"mejor\" proyeccion 100D de la palabra i\n",
    "\n",
    "def closest_word(w):   # w debe ser una \"word\"\n",
    "    w_index = words.index(w)\n",
    "    v_w = U_rawnorm[w_index,:].reshape(Ushape[1],1) # proyeccion 100D de w\n",
    "    \n",
    "    U_exceptw = np.copy(U_rawnorm) # muy ineficiente uso de memoria...\n",
    "    U_exceptw[w_index,:] = 0  # reemplazamos de U_rawnorm la fila correspondiente a w por ceros\n",
    "    # esto es ineficiente en cuanto a memoria, hay mejores soluciones, pero tiene la virtud de\n",
    "    # no cambiar los indices de las palabras, como hubiese pasado si, por ejemplo, hubiesemos\n",
    "    # usado np.delete\n",
    "    \n",
    "    cos_allexcept_w = np.dot(U_exceptw, v_w) # como las filas de U_exceptw estan normalizadas\n",
    "    # a 1, cos_sim_all es un vector con componentes iguales al cos del angulo entre las\n",
    "    # proyecciones 100D de todas las palabras y la de la palabra w.\n",
    "    \n",
    "    index_closest = np.argmax(cos_allexcept_w)  # si a U_rawnorm no le hubiesemos reemplazado a v_w\n",
    "                                                # por ceros, la mas cercana hubiese sido v_w. \n",
    "    return words[index_closest] # retorna la palabra cuya proyeccion 100D tiene el cos\n",
    "                                # del angulo con la proyyeccion de w mas cercano a 1."
   ]
  },
  {
   "cell_type": "code",
   "execution_count": 19,
   "metadata": {},
   "outputs": [
    {
     "name": "stdout",
     "output_type": "stream",
     "text": [
      "palabra mas cercana a 'man' =  woman\n",
      "palabra mas cercana a 'woman' =  girl\n"
     ]
    }
   ],
   "source": [
    "# jueguecon distintas palabras\n",
    "print(\"palabra mas cercana a 'man' = \", closest_word(\"man\"))\n",
    "print(\"palabra mas cercana a 'woman' = \", closest_word(\"woman\"))"
   ]
  },
  {
   "cell_type": "code",
   "execution_count": 20,
   "metadata": {},
   "outputs": [
    {
     "data": {
      "text/plain": [
       "[['athens', 'greece', 'bangkok', 'thailand'],\n",
       " ['athens', 'greece', 'beijing', 'china'],\n",
       " ['athens', 'greece', 'berlin', 'germany'],\n",
       " ['athens', 'greece', 'cairo', 'egypt'],\n",
       " ['athens', 'greece', 'canberra', 'australia'],\n",
       " ['athens', 'greece', 'helsinki', 'finland'],\n",
       " ['athens', 'greece', 'london', 'england'],\n",
       " ['athens', 'greece', 'madrid', 'spain'],\n",
       " ['athens', 'greece', 'moscow', 'russia'],\n",
       " ['athens', 'greece', 'oslo', 'norway']]"
      ]
     },
     "execution_count": 20,
     "metadata": {},
     "output_type": "execute_result"
    }
   ],
   "source": [
    "# Ejercicio 5. (b)\n",
    "\n",
    "analogies = []  # vamos a transformar el archivo .txt en un np.array\n",
    "with open(\"analogy_task.txt\", \"r\") as f:\n",
    "    for line in f:     # Phyton entiende que line es una fila\n",
    "        currow = line.replace(\"\\n\",\"\").split(\" \") # la operacion \"split\" toma una string y devuelve una list\n",
    "        analogies.append(currow)\n",
    "analogies[:10]  # analogies es una list de python, no un numpy array. list es mas flexible que np.array, por ejemplo no\n",
    "                # todas las filas de una lista tiene que tener el mismo numero de elementos"
   ]
  },
  {
   "cell_type": "code",
   "execution_count": 21,
   "metadata": {},
   "outputs": [],
   "source": [
    "# funcion que automatiza la respuesta a analogias\n",
    "# el input tiene que ser la lista de las primeras 3\n",
    "# palabras de la analogia, aunque si contiene\n",
    "# las 4 palabras funciona igual, y no lee la cuarta\n",
    "\n",
    "def analogia(w):\n",
    "    w1_index = words.index(w[0])\n",
    "    w2_index = words.index(w[1])\n",
    "    w3_index = words.index(w[2])\n",
    "    \n",
    "    v1 = U_rawnorm[w1_index,:].reshape(Ushape[1],1)\n",
    "    v2 = U_rawnorm[w2_index,:].reshape(Ushape[1],1)\n",
    "    v3 = U_rawnorm[w3_index,:].reshape(Ushape[1],1)\n",
    "    \n",
    "    v = v2 - v1 + v3\n",
    "    \n",
    "    U_except = np.copy(U_rawnorm) \n",
    "    U_except[w1_index,:] = 0\n",
    "    U_except[w2_index,:] = 0\n",
    "    U_except[w3_index,:] = 0\n",
    "    \n",
    "    \n",
    "    cos_allexcept = np.dot(U_except, v)\n",
    "    index_closest = np.argmax(cos_allexcept)\n",
    "    \n",
    "    return words[index_closest]"
   ]
  },
  {
   "cell_type": "code",
   "execution_count": 25,
   "metadata": {},
   "outputs": [
    {
     "name": "stdout",
     "output_type": "stream",
     "text": [
      "man  es a  woman  como  king  es a?\n",
      "queen\n"
     ]
    }
   ],
   "source": [
    "# juegue con analogias\n",
    "w = [\"man\", \"woman\", \"king\"]\n",
    "print(w[0], \" es a \", w[1], \" como \", w[2], \" es a?\")\n",
    "print(analogia(w))"
   ]
  },
  {
   "cell_type": "code",
   "execution_count": 27,
   "metadata": {},
   "outputs": [
    {
     "name": "stdout",
     "output_type": "stream",
     "text": [
      "ANALOGIA:  see  es a  seeing  como  jump  es a?\n",
      "respuesta humana =  jumping\n",
      "respuesta maquina =  jumping\n"
     ]
    }
   ],
   "source": [
    "# analogias del archivo \"analogy_task.txt\"\n",
    "# i de 0 a 5584\n",
    "\n",
    "i = 3000\n",
    "print(\"ANALOGIA: \", analogies[i][0], \" es a \", analogies[i][1], \" como \", analogies[i][2], \" es a?\")\n",
    "print(\"respuesta humana = \", analogies[i][3])\n",
    "print(\"respuesta maquina = \", analogia(analogies[i]))"
   ]
  },
  {
   "cell_type": "code",
   "execution_count": 26,
   "metadata": {},
   "outputs": [],
   "source": [
    "# calcule precision del algoritmo"
   ]
  },
  {
   "cell_type": "code",
   "execution_count": null,
   "metadata": {},
   "outputs": [],
   "source": []
  }
 ],
 "metadata": {
  "kernelspec": {
   "display_name": "Python 3",
   "language": "python",
   "name": "python3"
  },
  "language_info": {
   "codemirror_mode": {
    "name": "ipython",
    "version": 3
   },
   "file_extension": ".py",
   "mimetype": "text/x-python",
   "name": "python",
   "nbconvert_exporter": "python",
   "pygments_lexer": "ipython3",
   "version": "3.8.5"
  }
 },
 "nbformat": 4,
 "nbformat_minor": 4
}
